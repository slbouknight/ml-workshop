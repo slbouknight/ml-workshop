{
 "cells": [
  {
   "cell_type": "code",
   "execution_count": 1,
   "id": "a894b318",
   "metadata": {},
   "outputs": [],
   "source": [
    "import seaborn as sns\n",
    "from sklearn.preprocessing import LabelEncoder"
   ]
  },
  {
   "cell_type": "code",
   "execution_count": 2,
   "id": "0b26f65d",
   "metadata": {},
   "outputs": [
    {
     "data": {
      "text/plain": [
       "(891, 6)"
      ]
     },
     "execution_count": 2,
     "metadata": {},
     "output_type": "execute_result"
    }
   ],
   "source": [
    "titanic = sns.load_dataset('titanic')\n",
    "X = titanic[['sex', 'age', 'fare', 'class', 'embark_town', 'alone']].copy()\n",
    "X.shape"
   ]
  },
  {
   "cell_type": "markdown",
   "id": "2d3e6ac6",
   "metadata": {},
   "source": [
    "## Handle Missing Values"
   ]
  },
  {
   "cell_type": "code",
   "execution_count": 3,
   "id": "968e1f59",
   "metadata": {},
   "outputs": [
    {
     "name": "stdout",
     "output_type": "stream",
     "text": [
      "Sex: 0\n",
      "Age: 177\n",
      "Fare: 0\n",
      "Class: 0\n",
      "Embark town: 2\n",
      "Alone: 0\n"
     ]
    }
   ],
   "source": [
    "print('Sex: ' + str(X['sex'].isnull().sum()))\n",
    "print('Age: ' + str(X['age'].isnull().sum()))\n",
    "print('Fare: ' + str(X['fare'].isnull().sum()))\n",
    "print('Class: ' + str(X['class'].isnull().sum()))\n",
    "print('Embark town: ' + str(X['embark_town'].isnull().sum()))\n",
    "print('Alone: ' + str(X['alone'].isnull().sum()))"
   ]
  },
  {
   "cell_type": "code",
   "execution_count": 4,
   "id": "27aae1b7",
   "metadata": {},
   "outputs": [],
   "source": [
    "mean = X['age'].mean()\n",
    "mean = round(mean)\n",
    "X['age'].fillna(mean, inplace=True)"
   ]
  },
  {
   "cell_type": "markdown",
   "id": "47710e3b",
   "metadata": {},
   "source": [
    "## Outliers"
   ]
  },
  {
   "cell_type": "code",
   "execution_count": 5,
   "id": "4063648d",
   "metadata": {},
   "outputs": [
    {
     "name": "stdout",
     "output_type": "stream",
     "text": [
      "age : (884, 6)\n",
      "fare : (864, 6)\n"
     ]
    }
   ],
   "source": [
    "features = ['age', 'fare']\n",
    "\n",
    "for feature in features:\n",
    "    min_ = X[feature].mean() - (3 * X[feature].std())\n",
    "    max_ = X[feature].mean() + (3 * X[feature].std())\n",
    "    X = X[X[feature] <= max_]\n",
    "    X = X[X[feature] >= min_]\n",
    "    print(feature, ':', X.shape)"
   ]
  },
  {
   "cell_type": "code",
   "execution_count": 6,
   "id": "5fa86775",
   "metadata": {},
   "outputs": [
    {
     "name": "stdout",
     "output_type": "stream",
     "text": [
      "sex\n",
      "male      562\n",
      "female    302\n",
      "Name: sex, dtype: int64 \n",
      "\n",
      "class\n",
      "Third     489\n",
      "First     192\n",
      "Second    183\n",
      "Name: class, dtype: int64 \n",
      "\n",
      "embark_town\n",
      "Southampton    632\n",
      "Cherbourg      154\n",
      "Queenstown      76\n",
      "Name: embark_town, dtype: int64 \n",
      "\n",
      "alone\n",
      "True     524\n",
      "False    340\n",
      "Name: alone, dtype: int64 \n",
      "\n"
     ]
    }
   ],
   "source": [
    "features = ['sex', 'class', 'embark_town', 'alone']\n",
    "\n",
    "for feature in features:\n",
    "    count_ = X[feature].value_counts()\n",
    "    print(feature)\n",
    "    print(count_, '\\n')"
   ]
  },
  {
   "cell_type": "markdown",
   "id": "734a5beb",
   "metadata": {},
   "source": [
    "## Categorical to Numeric"
   ]
  },
  {
   "cell_type": "code",
   "execution_count": 7,
   "id": "c8ce236e",
   "metadata": {},
   "outputs": [],
   "source": [
    "enc = LabelEncoder()"
   ]
  },
  {
   "cell_type": "code",
   "execution_count": 8,
   "id": "ffbfe976",
   "metadata": {},
   "outputs": [],
   "source": [
    "X['sex'] = enc.fit_transform(X['sex'].astype('str'))\n",
    "X['class'] = enc.fit_transform(X['class'].astype('str'))\n",
    "X['embark_town'] = enc.fit_transform(X['embark_town'].astype('str'))\n",
    "X['alone'] = enc.fit_transform(X['alone'].astype('str'))"
   ]
  },
  {
   "cell_type": "code",
   "execution_count": 9,
   "id": "b360f613",
   "metadata": {},
   "outputs": [
    {
     "data": {
      "text/html": [
       "<div>\n",
       "<style scoped>\n",
       "    .dataframe tbody tr th:only-of-type {\n",
       "        vertical-align: middle;\n",
       "    }\n",
       "\n",
       "    .dataframe tbody tr th {\n",
       "        vertical-align: top;\n",
       "    }\n",
       "\n",
       "    .dataframe thead th {\n",
       "        text-align: right;\n",
       "    }\n",
       "</style>\n",
       "<table border=\"1\" class=\"dataframe\">\n",
       "  <thead>\n",
       "    <tr style=\"text-align: right;\">\n",
       "      <th></th>\n",
       "      <th>sex</th>\n",
       "      <th>age</th>\n",
       "      <th>fare</th>\n",
       "      <th>class</th>\n",
       "      <th>embark_town</th>\n",
       "      <th>alone</th>\n",
       "    </tr>\n",
       "  </thead>\n",
       "  <tbody>\n",
       "    <tr>\n",
       "      <th>0</th>\n",
       "      <td>1</td>\n",
       "      <td>22.0</td>\n",
       "      <td>7.2500</td>\n",
       "      <td>2</td>\n",
       "      <td>2</td>\n",
       "      <td>0</td>\n",
       "    </tr>\n",
       "    <tr>\n",
       "      <th>1</th>\n",
       "      <td>0</td>\n",
       "      <td>38.0</td>\n",
       "      <td>71.2833</td>\n",
       "      <td>0</td>\n",
       "      <td>0</td>\n",
       "      <td>0</td>\n",
       "    </tr>\n",
       "    <tr>\n",
       "      <th>2</th>\n",
       "      <td>0</td>\n",
       "      <td>26.0</td>\n",
       "      <td>7.9250</td>\n",
       "      <td>2</td>\n",
       "      <td>2</td>\n",
       "      <td>1</td>\n",
       "    </tr>\n",
       "    <tr>\n",
       "      <th>3</th>\n",
       "      <td>0</td>\n",
       "      <td>35.0</td>\n",
       "      <td>53.1000</td>\n",
       "      <td>0</td>\n",
       "      <td>2</td>\n",
       "      <td>0</td>\n",
       "    </tr>\n",
       "    <tr>\n",
       "      <th>4</th>\n",
       "      <td>1</td>\n",
       "      <td>35.0</td>\n",
       "      <td>8.0500</td>\n",
       "      <td>2</td>\n",
       "      <td>2</td>\n",
       "      <td>1</td>\n",
       "    </tr>\n",
       "  </tbody>\n",
       "</table>\n",
       "</div>"
      ],
      "text/plain": [
       "   sex   age     fare  class  embark_town  alone\n",
       "0    1  22.0   7.2500      2            2      0\n",
       "1    0  38.0  71.2833      0            0      0\n",
       "2    0  26.0   7.9250      2            2      1\n",
       "3    0  35.0  53.1000      0            2      0\n",
       "4    1  35.0   8.0500      2            2      1"
      ]
     },
     "execution_count": 9,
     "metadata": {},
     "output_type": "execute_result"
    }
   ],
   "source": [
    "X.head()"
   ]
  },
  {
   "cell_type": "markdown",
   "id": "0806405c",
   "metadata": {},
   "source": [
    "## Rescaling"
   ]
  },
  {
   "cell_type": "code",
   "execution_count": 10,
   "id": "ea625388",
   "metadata": {},
   "outputs": [
    {
     "data": {
      "text/html": [
       "<div>\n",
       "<style scoped>\n",
       "    .dataframe tbody tr th:only-of-type {\n",
       "        vertical-align: middle;\n",
       "    }\n",
       "\n",
       "    .dataframe tbody tr th {\n",
       "        vertical-align: top;\n",
       "    }\n",
       "\n",
       "    .dataframe thead th {\n",
       "        text-align: right;\n",
       "    }\n",
       "</style>\n",
       "<table border=\"1\" class=\"dataframe\">\n",
       "  <thead>\n",
       "    <tr style=\"text-align: right;\">\n",
       "      <th></th>\n",
       "      <th>sex</th>\n",
       "      <th>age</th>\n",
       "      <th>fare</th>\n",
       "      <th>class</th>\n",
       "      <th>embark_town</th>\n",
       "      <th>alone</th>\n",
       "    </tr>\n",
       "  </thead>\n",
       "  <tbody>\n",
       "    <tr>\n",
       "      <th>0</th>\n",
       "      <td>1.0</td>\n",
       "      <td>0.329064</td>\n",
       "      <td>0.043975</td>\n",
       "      <td>1.0</td>\n",
       "      <td>0.666667</td>\n",
       "      <td>0.0</td>\n",
       "    </tr>\n",
       "    <tr>\n",
       "      <th>1</th>\n",
       "      <td>0.0</td>\n",
       "      <td>0.573041</td>\n",
       "      <td>0.432369</td>\n",
       "      <td>0.0</td>\n",
       "      <td>0.000000</td>\n",
       "      <td>0.0</td>\n",
       "    </tr>\n",
       "    <tr>\n",
       "      <th>2</th>\n",
       "      <td>0.0</td>\n",
       "      <td>0.390058</td>\n",
       "      <td>0.048069</td>\n",
       "      <td>1.0</td>\n",
       "      <td>0.666667</td>\n",
       "      <td>1.0</td>\n",
       "    </tr>\n",
       "    <tr>\n",
       "      <th>3</th>\n",
       "      <td>0.0</td>\n",
       "      <td>0.527295</td>\n",
       "      <td>0.322078</td>\n",
       "      <td>0.0</td>\n",
       "      <td>0.666667</td>\n",
       "      <td>0.0</td>\n",
       "    </tr>\n",
       "    <tr>\n",
       "      <th>4</th>\n",
       "      <td>1.0</td>\n",
       "      <td>0.527295</td>\n",
       "      <td>0.048827</td>\n",
       "      <td>1.0</td>\n",
       "      <td>0.666667</td>\n",
       "      <td>1.0</td>\n",
       "    </tr>\n",
       "    <tr>\n",
       "      <th>5</th>\n",
       "      <td>1.0</td>\n",
       "      <td>0.451052</td>\n",
       "      <td>0.051304</td>\n",
       "      <td>1.0</td>\n",
       "      <td>0.333333</td>\n",
       "      <td>1.0</td>\n",
       "    </tr>\n",
       "    <tr>\n",
       "      <th>6</th>\n",
       "      <td>1.0</td>\n",
       "      <td>0.817017</td>\n",
       "      <td>0.314572</td>\n",
       "      <td>0.0</td>\n",
       "      <td>0.666667</td>\n",
       "      <td>1.0</td>\n",
       "    </tr>\n",
       "    <tr>\n",
       "      <th>7</th>\n",
       "      <td>1.0</td>\n",
       "      <td>0.024093</td>\n",
       "      <td>0.127831</td>\n",
       "      <td>1.0</td>\n",
       "      <td>0.666667</td>\n",
       "      <td>0.0</td>\n",
       "    </tr>\n",
       "    <tr>\n",
       "      <th>8</th>\n",
       "      <td>0.0</td>\n",
       "      <td>0.405306</td>\n",
       "      <td>0.067529</td>\n",
       "      <td>1.0</td>\n",
       "      <td>0.666667</td>\n",
       "      <td>0.0</td>\n",
       "    </tr>\n",
       "    <tr>\n",
       "      <th>9</th>\n",
       "      <td>0.0</td>\n",
       "      <td>0.207075</td>\n",
       "      <td>0.182395</td>\n",
       "      <td>0.5</td>\n",
       "      <td>0.000000</td>\n",
       "      <td>0.0</td>\n",
       "    </tr>\n",
       "  </tbody>\n",
       "</table>\n",
       "</div>"
      ],
      "text/plain": [
       "   sex       age      fare  class  embark_town  alone\n",
       "0  1.0  0.329064  0.043975    1.0     0.666667    0.0\n",
       "1  0.0  0.573041  0.432369    0.0     0.000000    0.0\n",
       "2  0.0  0.390058  0.048069    1.0     0.666667    1.0\n",
       "3  0.0  0.527295  0.322078    0.0     0.666667    0.0\n",
       "4  1.0  0.527295  0.048827    1.0     0.666667    1.0\n",
       "5  1.0  0.451052  0.051304    1.0     0.333333    1.0\n",
       "6  1.0  0.817017  0.314572    0.0     0.666667    1.0\n",
       "7  1.0  0.024093  0.127831    1.0     0.666667    0.0\n",
       "8  0.0  0.405306  0.067529    1.0     0.666667    0.0\n",
       "9  0.0  0.207075  0.182395    0.5     0.000000    0.0"
      ]
     },
     "execution_count": 10,
     "metadata": {},
     "output_type": "execute_result"
    }
   ],
   "source": [
    "X = (X - X.min()) / (X.max() - X.min())\n",
    "X.head(10)"
   ]
  },
  {
   "cell_type": "code",
   "execution_count": null,
   "id": "9fc03a6d",
   "metadata": {},
   "outputs": [],
   "source": []
  }
 ],
 "metadata": {
  "kernelspec": {
   "display_name": "Python 3 (ipykernel)",
   "language": "python",
   "name": "python3"
  },
  "language_info": {
   "codemirror_mode": {
    "name": "ipython",
    "version": 3
   },
   "file_extension": ".py",
   "mimetype": "text/x-python",
   "name": "python",
   "nbconvert_exporter": "python",
   "pygments_lexer": "ipython3",
   "version": "3.10.10"
  }
 },
 "nbformat": 4,
 "nbformat_minor": 5
}
