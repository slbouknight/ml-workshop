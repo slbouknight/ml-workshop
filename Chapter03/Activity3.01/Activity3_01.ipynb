{
 "cells": [
  {
   "cell_type": "code",
   "execution_count": 1,
   "id": "ce675535",
   "metadata": {},
   "outputs": [],
   "source": [
    "from sklearn.datasets import load_digits\n",
    "import pandas as pd\n",
    "from sklearn.model_selection import train_test_split\n",
    "from sklearn.model_selection import KFold"
   ]
  },
  {
   "cell_type": "code",
   "execution_count": 2,
   "id": "8f39d423",
   "metadata": {},
   "outputs": [],
   "source": [
    "digits = load_digits()"
   ]
  },
  {
   "cell_type": "code",
   "execution_count": 3,
   "id": "4bce921c",
   "metadata": {},
   "outputs": [
    {
     "name": "stdout",
     "output_type": "stream",
     "text": [
      "(1797, 64) (1797, 1)\n"
     ]
    }
   ],
   "source": [
    "X = pd.DataFrame(digits.data)\n",
    "Y = pd.DataFrame(digits.target)\n",
    "print(X.shape, Y.shape)"
   ]
  },
  {
   "cell_type": "markdown",
   "id": "692258d0",
   "metadata": {},
   "source": [
    "## Standard Splitting"
   ]
  },
  {
   "cell_type": "code",
   "execution_count": 4,
   "id": "3b2d6de7",
   "metadata": {},
   "outputs": [
    {
     "name": "stdout",
     "output_type": "stream",
     "text": [
      "(1437, 64) (1437, 1) (360, 64) (360, 1)\n"
     ]
    }
   ],
   "source": [
    "X_new, X_test, Y_new, Y_test = train_test_split(X, Y, test_size=0.2)\n",
    "print(X_new.shape, Y_new.shape, X_test.shape, Y_test.shape)"
   ]
  },
  {
   "cell_type": "code",
   "execution_count": 5,
   "id": "53fe50b7",
   "metadata": {},
   "outputs": [
    {
     "name": "stdout",
     "output_type": "stream",
     "text": [
      "0.25052192066805845\n"
     ]
    }
   ],
   "source": [
    "dev_size = X_test.shape[0]/X_new.shape[0]\n",
    "print(dev_size)"
   ]
  },
  {
   "cell_type": "code",
   "execution_count": 6,
   "id": "a8d98d98",
   "metadata": {},
   "outputs": [],
   "source": [
    "X_train, X_dev, Y_train, Y_dev = train_test_split(X_new, Y_new, test_size=dev_size)"
   ]
  },
  {
   "cell_type": "code",
   "execution_count": 7,
   "id": "44243e19",
   "metadata": {},
   "outputs": [
    {
     "name": "stdout",
     "output_type": "stream",
     "text": [
      "(1077, 64) (1077, 1) (360, 64) (360, 1) (360, 64) (360, 1)\n"
     ]
    }
   ],
   "source": [
    "print(X_train.shape, Y_train.shape, X_dev.shape, Y_dev.shape, X_test.shape, Y_test.shape)"
   ]
  },
  {
   "cell_type": "markdown",
   "id": "88aaf4a6",
   "metadata": {},
   "source": [
    "## Cross-validation"
   ]
  },
  {
   "cell_type": "code",
   "execution_count": 8,
   "id": "1e4a5ff9",
   "metadata": {},
   "outputs": [],
   "source": [
    "X_new_2, X_test_2, Y_new_2, Y_test_2 = train_test_split(X, Y, test_size=0.1)"
   ]
  },
  {
   "cell_type": "code",
   "execution_count": 9,
   "id": "5763109c",
   "metadata": {},
   "outputs": [],
   "source": [
    "kf = KFold(n_splits=10)\n",
    "splits = kf.split(X_new_2)"
   ]
  },
  {
   "cell_type": "code",
   "execution_count": 11,
   "id": "e8333006",
   "metadata": {},
   "outputs": [],
   "source": [
    "for train_index, dev_index in splits:\n",
    "    X_train_2, X_dev_2 = X_new_2.iloc[train_index,:], X_new_2.iloc[dev_index,:]\n",
    "    Y_train_2, Y_dev_2 = Y_new_2.iloc[train_index,:], Y_new_2.iloc[dev_index,:]"
   ]
  },
  {
   "cell_type": "code",
   "execution_count": 12,
   "id": "c33265da",
   "metadata": {},
   "outputs": [
    {
     "name": "stdout",
     "output_type": "stream",
     "text": [
      "(1456, 64) (1456, 1) (161, 64) (161, 1) (180, 64) (180, 1)\n"
     ]
    }
   ],
   "source": [
    "print(X_train_2.shape, Y_train_2.shape, X_dev_2.shape, Y_dev_2.shape, X_test_2.shape, Y_test_2.shape)"
   ]
  },
  {
   "cell_type": "code",
   "execution_count": null,
   "id": "1d90d633",
   "metadata": {},
   "outputs": [],
   "source": []
  }
 ],
 "metadata": {
  "kernelspec": {
   "display_name": "Python 3 (ipykernel)",
   "language": "python",
   "name": "python3"
  },
  "language_info": {
   "codemirror_mode": {
    "name": "ipython",
    "version": 3
   },
   "file_extension": ".py",
   "mimetype": "text/x-python",
   "name": "python",
   "nbconvert_exporter": "python",
   "pygments_lexer": "ipython3",
   "version": "3.10.10"
  }
 },
 "nbformat": 4,
 "nbformat_minor": 5
}
