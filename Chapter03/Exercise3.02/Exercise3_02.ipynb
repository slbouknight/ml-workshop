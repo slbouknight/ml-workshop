{
 "cells": [
  {
   "cell_type": "code",
   "execution_count": 1,
   "id": "934450be",
   "metadata": {},
   "outputs": [],
   "source": [
    "from sklearn.datasets import load_wine\n",
    "import pandas as pd\n",
    "from sklearn.model_selection import train_test_split\n",
    "from sklearn.model_selection import KFold"
   ]
  },
  {
   "cell_type": "code",
   "execution_count": 2,
   "id": "04222cca",
   "metadata": {},
   "outputs": [],
   "source": [
    "data = load_wine()\n",
    "X = pd.DataFrame(data.data)\n",
    "Y = pd.DataFrame(data.target)"
   ]
  },
  {
   "cell_type": "code",
   "execution_count": 3,
   "id": "f184fc9d",
   "metadata": {},
   "outputs": [],
   "source": [
    "X, X_test, Y, Y_test = train_test_split(X, Y, test_size=0.1)"
   ]
  },
  {
   "cell_type": "code",
   "execution_count": 4,
   "id": "b24a770f",
   "metadata": {},
   "outputs": [],
   "source": [
    "kf = KFold(n_splits=10)\n",
    "splits = kf.split(X)"
   ]
  },
  {
   "cell_type": "code",
   "execution_count": 5,
   "id": "431ad7fc",
   "metadata": {},
   "outputs": [],
   "source": [
    "for train_index, test_index in splits:\n",
    "    X_train, X_dev = X.iloc[train_index,:], X.iloc[test_index,:]\n",
    "    Y_train, Y_dev = Y.iloc[train_index,:], Y.iloc[test_index,:]"
   ]
  },
  {
   "cell_type": "code",
   "execution_count": 6,
   "id": "55913f8f",
   "metadata": {},
   "outputs": [
    {
     "name": "stdout",
     "output_type": "stream",
     "text": [
      "(144, 13) (144, 1) (16, 13) (16, 1) (18, 13) (18, 1)\n"
     ]
    }
   ],
   "source": [
    "print(X_train.shape, Y_train.shape, X_dev.shape, Y_dev.shape, X_test.shape, Y_test.shape)"
   ]
  },
  {
   "cell_type": "code",
   "execution_count": null,
   "id": "53fdd7b2",
   "metadata": {},
   "outputs": [],
   "source": []
  }
 ],
 "metadata": {
  "kernelspec": {
   "display_name": "Python 3 (ipykernel)",
   "language": "python",
   "name": "python3"
  },
  "language_info": {
   "codemirror_mode": {
    "name": "ipython",
    "version": 3
   },
   "file_extension": ".py",
   "mimetype": "text/x-python",
   "name": "python",
   "nbconvert_exporter": "python",
   "pygments_lexer": "ipython3",
   "version": "3.10.10"
  }
 },
 "nbformat": 4,
 "nbformat_minor": 5
}
