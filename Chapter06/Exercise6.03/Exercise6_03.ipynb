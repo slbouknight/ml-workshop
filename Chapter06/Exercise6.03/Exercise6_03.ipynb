{
 "cells": [
  {
   "cell_type": "code",
   "execution_count": 1,
   "id": "8478685f",
   "metadata": {},
   "outputs": [],
   "source": [
    "from exerciseClass import NN_Model"
   ]
  },
  {
   "cell_type": "code",
   "execution_count": 2,
   "id": "19280f2b",
   "metadata": {},
   "outputs": [],
   "source": [
    "model = NN_Model()"
   ]
  },
  {
   "cell_type": "code",
   "execution_count": 3,
   "id": "03ca3c4c",
   "metadata": {},
   "outputs": [],
   "source": [
    "a = 1        # season in which the analysis was performed\n",
    "b = 0.56     # age at the time of the analysis\n",
    "c = 1        # childish disease\n",
    "d = 1        # accident or serious trauma\n",
    "e = 1        # surgical intervention\n",
    "f = 0        # high fevers in the last year\n",
    "g  = 1       # frequency of alcohol consumption\n",
    "h = -1       # smoking habit\n",
    "i = 0.63     # number of hours spent sitting per day"
   ]
  },
  {
   "cell_type": "code",
   "execution_count": 4,
   "id": "6864fc20",
   "metadata": {},
   "outputs": [],
   "source": [
    "pred = model.predict(season = a, age = b, childish = c, trauma = d, surgical = e, fevers = f, alcohol = g, \n",
    "                     smoking = h, sitting = i)"
   ]
  },
  {
   "cell_type": "code",
   "execution_count": 5,
   "id": "29f6f46f",
   "metadata": {},
   "outputs": [
    {
     "name": "stdout",
     "output_type": "stream",
     "text": [
      "['N']\n"
     ]
    }
   ],
   "source": [
    "print(pred)"
   ]
  },
  {
   "cell_type": "code",
   "execution_count": null,
   "id": "9181613f",
   "metadata": {},
   "outputs": [],
   "source": []
  }
 ],
 "metadata": {
  "kernelspec": {
   "display_name": "Python 3 (ipykernel)",
   "language": "python",
   "name": "python3"
  },
  "language_info": {
   "codemirror_mode": {
    "name": "ipython",
    "version": 3
   },
   "file_extension": ".py",
   "mimetype": "text/x-python",
   "name": "python",
   "nbconvert_exporter": "python",
   "pygments_lexer": "ipython3",
   "version": "3.10.10"
  }
 },
 "nbformat": 4,
 "nbformat_minor": 5
}
